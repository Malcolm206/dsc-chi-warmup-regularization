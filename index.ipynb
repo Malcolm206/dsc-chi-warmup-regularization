{
 "cells": [
  {
   "cell_type": "markdown",
   "metadata": {},
   "source": [
    "# Regularization"
   ]
  },
  {
   "cell_type": "code",
   "execution_count": 1,
   "metadata": {
    "ExecuteTime": {
     "end_time": "2020-06-24T23:30:48.052852Z",
     "start_time": "2020-06-24T23:30:47.186948Z"
    }
   },
   "outputs": [],
   "source": [
    "import numpy as np\n",
    "from sklearn.datasets import make_regression\n",
    "from sklearn.linear_model import RidgeCV\n",
    "from sklearn.linear_model import LassoCV\n",
    "from sklearn.model_selection import train_test_split\n",
    "from sklearn.metrics import mean_squared_error\n",
    "import matplotlib.pyplot as plt\n",
    "\n",
    "\n",
    "data = make_regression(10000, 100, 8, coef=True, random_state=666)"
   ]
  },
  {
   "cell_type": "code",
   "execution_count": null,
   "metadata": {},
   "outputs": [],
   "source": [
    "# __SOLUTION__\n",
    "import numpy as np\n",
    "from sklearn.datasets import make_regression\n",
    "from sklearn.linear_model import RidgeCV\n",
    "from sklearn.linear_model import LassoCV\n",
    "from sklearn.model_selection import train_test_split\n",
    "from sklearn.metrics import mean_squared_error\n",
    "import matplotlib.pyplot as plt\n",
    "\n",
    "\n",
    "data = make_regression(10000, 100, 8, coef=True, random_state=666)"
   ]
  },
  {
   "cell_type": "markdown",
   "metadata": {},
   "source": [
    "#### Split the data into train and test sets"
   ]
  },
  {
   "cell_type": "code",
   "execution_count": 2,
   "metadata": {
    "ExecuteTime": {
     "end_time": "2020-06-24T23:30:49.381961Z",
     "start_time": "2020-06-24T23:30:49.370828Z"
    }
   },
   "outputs": [],
   "source": [
    "X=data[0]\n",
    "y=data[1]\n",
    "\n",
    "X_train, X_test, y_train, y_test = train_test_split(X, y, train_size=.8, random_state=666)"
   ]
  },
  {
   "cell_type": "code",
   "execution_count": null,
   "metadata": {},
   "outputs": [],
   "source": [
    "# __SOLUTION__\n",
    "X=data[0]\n",
    "y=data[1]\n",
    "\n",
    "X_train, X_test, y_train, y_test = train_test_split(X, y, train_size=.8, random_state=666)"
   ]
  },
  {
   "cell_type": "markdown",
   "metadata": {},
   "source": [
    "#### Create a LassoCV object \n",
    "- Calculate for an alpha of .1\n",
    "- set ```normalize``` to ```True``` too make sure our data is standardized."
   ]
  },
  {
   "cell_type": "code",
   "execution_count": null,
   "metadata": {
    "ExecuteTime": {
     "end_time": "2020-06-24T23:30:53.171286Z",
     "start_time": "2020-06-24T23:30:53.042387Z"
    }
   },
   "outputs": [],
   "source": [
    "lasso_cv = LassoCV(\n",
    "    n_alphas=1,\n",
    "    alphas=[.1],\n",
    "    cv=10,\n",
    "    normalize=True\n",
    ")\n",
    "\n",
    "lasso_cv.fit(X_train, y_train)"
   ]
  },
  {
   "cell_type": "code",
   "execution_count": null,
   "metadata": {},
   "outputs": [],
   "source": [
    "# __SOLUTION__\n",
    "lasso_cv = LassoCV(\n",
    "    n_alphas=1,\n",
    "    alphas=[.1],\n",
    "    cv=10,\n",
    "    normalize=True\n",
    ")\n",
    "\n",
    "lasso_cv.fit(X_train, y_train)"
   ]
  },
  {
   "cell_type": "markdown",
   "metadata": {},
   "source": [
    "#### Calculate the error for our train and test data"
   ]
  },
  {
   "cell_type": "code",
   "execution_count": 3,
   "metadata": {
    "ExecuteTime": {
     "end_time": "2020-06-24T23:30:53.171286Z",
     "start_time": "2020-06-24T23:30:53.042387Z"
    }
   },
   "outputs": [],
   "source": [
    "preds = lasso_cv.predict(X_test)\n",
    "train_error = np.mean(lasso_cv.mse_path_)\n",
    "test_error = mean_squared_error(\n",
    "    y_test, preds\n",
    ")"
   ]
  },
  {
   "cell_type": "code",
   "execution_count": null,
   "metadata": {},
   "outputs": [],
   "source": [
    "# __SOLUTION__\n",
    "preds = lasso_cv.predict(X_test)\n",
    "train_error = np.mean(lasso_cv.mse_path_)\n",
    "test_error = mean_squared_error(\n",
    "    y_test, preds\n",
    ")"
   ]
  },
  {
   "cell_type": "markdown",
   "metadata": {},
   "source": [
    "#### Now let's create a function called ```lasso_errors``` using the code from above:\n",
    "\n",
    "<u>This function should:</u>\n",
    "- Receive a single input called ```alpha```.\n",
    "- Output the train and test errors.\n",
    "\n",
    "#### Put this function inside of a loop and run it for alphas of [1e-8, 1e-6, 1e-3, 1e-1]\n",
    "> Which alpha minimizes test mse?"
   ]
  },
  {
   "cell_type": "code",
   "execution_count": null,
   "metadata": {},
   "outputs": [],
   "source": [
    "# Your code here\n"
   ]
  },
  {
   "cell_type": "code",
   "execution_count": 6,
   "metadata": {
    "ExecuteTime": {
     "end_time": "2020-06-25T05:02:52.858734Z",
     "start_time": "2020-06-25T05:02:52.120550Z"
    }
   },
   "outputs": [
    {
     "name": "stdout",
     "output_type": "stream",
     "text": [
      "min alpha: 6.799786828219997e-08\n"
     ]
    }
   ],
   "source": [
    "# __SOLUTION__\n",
    "def lasso_errors(alpha):\n",
    "    lasso_cv = LassoCV(\n",
    "    n_alphas=1,\n",
    "    alphas=[alpha],\n",
    "    cv=10,\n",
    "    normalize=True\n",
    ")\n",
    "\n",
    "    lasso_cv.fit(X_train, y_train)\n",
    "    preds = lasso_cv.predict(X_test)\n",
    "    train_error = np.mean(lasso_cv.mse_path_)\n",
    "    test_error = mean_squared_error(\n",
    "        y_test, preds\n",
    "    )\n",
    "    \n",
    "    return train_error, test_error\n",
    "\n",
    "test_errors = []\n",
    "train_errors = []\n",
    "alphas = [1e-8, 1e-6, 1e-3, 1e-1]\n",
    "\n",
    "for alpha in alphas:\n",
    "\n",
    "    train_error, test_error =  lasso_errors(alpha)\n",
    "    \n",
    "    train_errors.append(train_error) \n",
    "    test_errors.append(test_error)\n",
    "    \n",
    "min_alpha_index = (\n",
    "    np.array(\n",
    "        test_errors\n",
    "    )\n",
    "    .argmin()\n",
    ")\n",
    "\n",
    "print(f'min alpha: {test_errors[min_alpha_index]}')"
   ]
  },
  {
   "cell_type": "markdown",
   "metadata": {},
   "source": [
    "#### Let's graph out train and test error."
   ]
  },
  {
   "cell_type": "code",
   "execution_count": 7,
   "metadata": {
    "ExecuteTime": {
     "end_time": "2020-06-25T05:03:17.029137Z",
     "start_time": "2020-06-25T05:03:16.149908Z"
    }
   },
   "outputs": [
    {
     "data": {
      "image/png": "[encoded data removed]",
      "text/plain": [
       "<Figure size 432x288 with 1 Axes>"
      ]
     },
     "metadata": {
      "needs_background": "light"
     },
     "output_type": "display_data"
    }
   ],
   "source": [
    "fig, ax = plt.subplots()\n",
    "ax.plot(alphas, train_errors, label='train')\n",
    "ax.plot(alphas, test_errors, label='test')\n",
    "ax.legend()\n",
    "ax.set_xticks(alphas)\n",
    "ax.set_yscale('log')\n",
    "ax.set_xscale('log')\n",
    "plt.show();"
   ]
  },
  {
   "cell_type": "code",
   "execution_count": null,
   "metadata": {},
   "outputs": [],
   "source": [
    "# __SOLUTION__\n",
    "fig, ax = plt.subplots()\n",
    "ax.plot(alphas, train_errors, label='train')\n",
    "ax.plot(alphas, test_errors, label='test')\n",
    "ax.legend()\n",
    "ax.set_xticks(alphas)\n",
    "ax.set_yscale('log')\n",
    "ax.set_xscale('log')\n",
    "plt.show();"
   ]
  },
  {
   "cell_type": "markdown",
   "metadata": {},
   "source": [
    "#### DOUBLE BONUS\n",
    "\n",
    "<b><u>Create a function that:</u></b>\n",
    "- Takes in a *range* of alphas and generates the train/test error graph created above\n",
    "\n",
    "*Use ```np.linspace(1e-8, 1e-5, 20)``` as the input to generate 20 alpha values.*"
   ]
  },
  {
   "cell_type": "code",
   "execution_count": null,
   "metadata": {},
   "outputs": [],
   "source": [
    "# Your code here\n"
   ]
  },
  {
   "cell_type": "code",
   "execution_count": 5,
   "metadata": {
    "ExecuteTime": {
     "end_time": "2020-06-24T23:31:10.742133Z",
     "start_time": "2020-06-24T23:31:08.421600Z"
    }
   },
   "outputs": [
    {
     "name": "stdout",
     "output_type": "stream",
     "text": [
      "min alpha: 3.146524697979642e-08\n"
     ]
    },
    {
     "data": {
      "image/png": "[encoded data removed]",
      "text/plain": [
       "<Figure size 432x288 with 1 Axes>"
      ]
     },
     "metadata": {
      "needs_background": "light"
     },
     "output_type": "display_data"
    }
   ],
   "source": [
    "# __SOLUTION__\n",
    "def graph_errors(alphas):\n",
    "    test_errors = []\n",
    "    train_errors = []\n",
    "\n",
    "    for alpha in alphas:\n",
    "\n",
    "        train_error, test_error =  lasso_errors(alpha)\n",
    "\n",
    "        train_errors.append(train_error) \n",
    "        test_errors.append(test_error)\n",
    "\n",
    "    \n",
    "    min_alpha_index = (\n",
    "        np.array(\n",
    "            test_errors\n",
    "        )\n",
    "        .argmin()\n",
    "        )\n",
    "\n",
    "    print(f'min alpha: {test_errors[min_alpha_index]}')\n",
    "    \n",
    "    fig, ax = plt.subplots()\n",
    "    ax.plot(alphas, train_errors, label='train')\n",
    "    ax.plot(alphas, test_errors, label='test')\n",
    "    ax.legend()\n",
    "    ax.set_xticks(alphas)\n",
    "    ax.set_yscale('log')\n",
    "    ax.set_xscale('log')\n",
    "    plt.show();\n",
    "\n",
    "    \n",
    "graph_errors(np.linspace(1e-8, 1e-5, 20))"
   ]
  }
 ],
 "metadata": {
  "hide_input": false,
  "kernelspec": {
   "display_name": "Python 3",
   "language": "python",
   "name": "python3"
  },
  "language_info": {
   "codemirror_mode": {
    "name": "ipython",
    "version": 3
   },
   "file_extension": ".py",
   "mimetype": "text/x-python",
   "name": "python",
   "nbconvert_exporter": "python",
   "pygments_lexer": "ipython3",
   "version": "3.7.3"
  },
  "toc": {
   "base_numbering": 1,
   "nav_menu": {},
   "number_sections": false,
   "sideBar": true,
   "skip_h1_title": true,
   "title_cell": "Table of Contents",
   "title_sidebar": "Contents",
   "toc_cell": false,
   "toc_position": {},
   "toc_section_display": true,
   "toc_window_display": false
  },
  "varInspector": {
   "cols": {
    "lenName": 16,
    "lenType": 16,
    "lenVar": 40
   },
   "kernels_config": {
    "python": {
     "delete_cmd_postfix": "",
     "delete_cmd_prefix": "del ",
     "library": "var_list.py",
     "varRefreshCmd": "print(var_dic_list())"
    },
    "r": {
     "delete_cmd_postfix": ") ",
     "delete_cmd_prefix": "rm(",
     "library": "var_list.r",
     "varRefreshCmd": "cat(var_dic_list()) "
    }
   },
   "types_to_exclude": [
    "module",
    "function",
    "builtin_function_or_method",
    "instance",
    "_Feature"
   ],
   "window_display": false
  }
 },
 "nbformat": 4,
 "nbformat_minor": 4
}
